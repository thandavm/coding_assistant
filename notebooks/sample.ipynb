{
 "cells": [
  {
   "cell_type": "code",
   "execution_count": 7,
   "metadata": {},
   "outputs": [],
   "source": [
    "import locale\n",
    "\n",
    "import io\n",
    "\n",
    "#Def for guessing the encoding of the SQL file\n",
    "\n",
    "def guess_encoding(file):\n",
    "\n",
    "    \"\"\"guess the encoding of the given file\"\"\"\n",
    "\n",
    "    with io.open(file, \"rb\") as f:\n",
    "\n",
    "        data = f.read(5)\n",
    "\n",
    "    if data.startswith(b\"\\xEF\\xBB\\xBF\"):  # UTF-8 with a \"BOM\"\n",
    "\n",
    "        return \"utf-8-sig\"\n",
    "\n",
    "    elif data.startswith(b\"\\xFF\\xFE\") or data.startswith(b\"\\xFE\\xFF\"):\n",
    "\n",
    "        return \"utf-16\"\n",
    "\n",
    "    else:  # guessing utf-8 doesn't work in Windows, so we just give it a try:\n",
    "\n",
    "        try:\n",
    "\n",
    "            with io.open(file, encoding=\"utf-8\") as f:\n",
    "\n",
    "                return \"utf-8\"\n",
    "\n",
    "        except:\n",
    "\n",
    "            return locale.getdefaultlocale()[1]"
   ]
  },
  {
   "cell_type": "code",
   "execution_count": 1,
   "metadata": {},
   "outputs": [],
   "source": [
    "import textwrap\n",
    "def create_query_string(sql_file):\n",
    "\n",
    "    with open(sql_file, 'r', encoding=guess_encoding(sql_file)) as f_in:\n",
    "        lines = f_in.read()\n",
    "        query_string = textwrap.dedent(\"\"\"{}\"\"\".format(lines))\n",
    "        return query_string"
   ]
  },
  {
   "cell_type": "code",
   "execution_count": 9,
   "metadata": {},
   "outputs": [],
   "source": [
    "meta_data = create_query_string(\"../data/sample.sql\")"
   ]
  },
  {
   "cell_type": "code",
   "execution_count": 10,
   "metadata": {},
   "outputs": [],
   "source": [
    "query = 'Write a SQL query that fetches all the patients who were prescribed more than 5 different medications on 2023-04-01'"
   ]
  },
  {
   "cell_type": "code",
   "execution_count": 21,
   "metadata": {},
   "outputs": [],
   "source": [
    "prompt_sql_data = f\"\"\"\n",
    "\n",
    "Human: You're provided with a database schema representing any hospital's patient management system.\n",
    "The system holds records about patients, their prescriptions, doctors, and the medications prescribed.  \n",
    "Provide just the SQL Code.  Do not add additional information.\n",
    "\n",
    "Here's the schema: {meta_data}\n",
    "\n",
    "{query}\n",
    "\n",
    "\n",
    "Assistant:\n",
    "\"\"\""
   ]
  },
  {
   "cell_type": "code",
   "execution_count": 12,
   "metadata": {},
   "outputs": [],
   "source": [
    "from langchain.llms.bedrock import Bedrock\n",
    "\n",
    "inference_modifier = {'max_tokens_to_sample':4096, \n",
    "                      \"temperature\":0.5,\n",
    "                      \"top_k\":250,\n",
    "                      \"top_p\":1,\n",
    "                      \"stop_sequences\": [\"\\n\\nHuman\"]\n",
    "                     }\n",
    "\n",
    "textgen_llm = Bedrock(model_id = \"anthropic.claude-v2\",\n",
    "                    model_kwargs = inference_modifier \n",
    "                    )"
   ]
  },
  {
   "cell_type": "code",
   "execution_count": 22,
   "metadata": {},
   "outputs": [],
   "source": [
    "import boto3\n",
    "import json\n",
    "\n",
    "bedrock = boto3.client('bedrock-runtime')\n",
    "model_id = \"anthropic.claude-v2\"\n",
    "\n",
    "accept = 'application/json'\n",
    "contentType = 'application/json'\n",
    "\n",
    "body = json.dumps({\n",
    "                    \"prompt\": prompt_sql_data,\n",
    "                    \"max_tokens_to_sample\":4096,\n",
    "                    \"temperature\":0.5,\n",
    "                    \"top_k\":250,\n",
    "                    \"top_p\":0.5,\n",
    "                    \"stop_sequences\": [\"\\n\\nHuman:\"]\n",
    "                  })"
   ]
  },
  {
   "cell_type": "code",
   "execution_count": 23,
   "metadata": {},
   "outputs": [
    {
     "name": "stdout",
     "output_type": "stream",
     "text": [
      " SELECT p.FirstName, p.LastName\n",
      "FROM Patients p \n",
      "INNER JOIN Prescriptions pre ON p.PatientID = pre.PatientID\n",
      "INNER JOIN PrescriptionDetails pd ON pre.PrescriptionID = pd.PrescriptionID\n",
      "WHERE pre.DateIssued = '2023-04-01'\n",
      "GROUP BY p.PatientID\n",
      "HAVING COUNT(DISTINCT pd.MedicationID) > 5;\n"
     ]
    }
   ],
   "source": [
    "response = bedrock.invoke_model(body=body, modelId=model_id, accept=accept, contentType=contentType)\n",
    "response_body = json.loads(response.get('body').read())\n",
    "\n",
    "print(response_body.get('completion'))"
   ]
  },
  {
   "cell_type": "code",
   "execution_count": 20,
   "metadata": {},
   "outputs": [
    {
     "name": "stdout",
     "output_type": "stream",
     "text": [
      " Here is a SQL query to fetch patients who were prescribed more than 5 different medications on 2023-04-01:\n",
      "\n",
      "```sql\n",
      "SELECT p.FirstName, p.LastName\n",
      "FROM Patients p\n",
      "JOIN Prescriptions pre ON p.PatientID = pre.PatientID\n",
      "JOIN PrescriptionDetails pd ON pre.PrescriptionID = pd.PrescriptionID\n",
      "WHERE pre.DateIssued = '2023-04-01'\n",
      "GROUP BY p.PatientID\n",
      "HAVING COUNT(DISTINCT pd.MedicationID) > 5\n",
      "```\n",
      "\n",
      "The key steps are:\n",
      "\n",
      "1. Join the Patients, Prescriptions and PrescriptionDetails tables to connect patients with their prescriptions and medication details. \n",
      "\n",
      "2. Filter to only prescriptions issued on 2023-04-01.\n",
      "\n",
      "3. Group by PatientID and count the distinct MedicationIDs per patient. \n",
      "\n",
      "4. Use HAVING clause to only keep patients with more than 5 distinct medications.\n",
      "\n",
      "5. Select the patient FirstName and LastName in the final output.\n",
      "\n",
      "This will give you all patients who were prescribed more than 5 different medications on the specified date.\n"
     ]
    }
   ],
   "source": [
    "print(response_body.get('completion'))"
   ]
  },
  {
   "cell_type": "code",
   "execution_count": 1,
   "metadata": {},
   "outputs": [],
   "source": [
    "from langchain.agents import create_sql_agent\n",
    "from langchain.agents.agent_toolkits import SQLDatabaseToolkit\n",
    "from langchain.sql_database import SQLDatabase"
   ]
  },
  {
   "cell_type": "code",
   "execution_count": 1,
   "metadata": {},
   "outputs": [
    {
     "name": "stdout",
     "output_type": "stream",
     "text": [
      "\u001b[33mWARNING: Ignoring invalid distribution - (/Users/thandavm/opt/anaconda3/lib/python3.8/site-packages)\u001b[0m\u001b[33m\n",
      "\u001b[0m\u001b[33mWARNING: Ignoring invalid distribution -yyaml (/Users/thandavm/opt/anaconda3/lib/python3.8/site-packages)\u001b[0m\u001b[33m\n",
      "\u001b[0mCollecting langchain_experimental\n",
      "  Obtaining dependency information for langchain_experimental from https://files.pythonhosted.org/packages/4d/6a/20f8ee4849a3d1cbc707a2f0cc504711932c7b4689498a7f9bf37cb0de95/langchain_experimental-0.0.27-py3-none-any.whl.metadata\n",
      "  Downloading langchain_experimental-0.0.27-py3-none-any.whl.metadata (1.8 kB)\n",
      "Collecting langchain>=0.0.308 (from langchain_experimental)\n",
      "  Obtaining dependency information for langchain>=0.0.308 from https://files.pythonhosted.org/packages/1f/46/d82192ebc8d1f0e42b03b5c8a078737fba9fe8ec416722f5865ed9424d49/langchain-0.0.311-py3-none-any.whl.metadata\n",
      "  Downloading langchain-0.0.311-py3-none-any.whl.metadata (15 kB)\n",
      "Requirement already satisfied: PyYAML>=5.3 in /Users/thandavm/opt/anaconda3/lib/python3.8/site-packages (from langchain>=0.0.308->langchain_experimental) (5.3.1)\n",
      "Requirement already satisfied: SQLAlchemy<3,>=1.4 in /Users/thandavm/opt/anaconda3/lib/python3.8/site-packages (from langchain>=0.0.308->langchain_experimental) (2.0.15)\n",
      "Requirement already satisfied: aiohttp<4.0.0,>=3.8.3 in /Users/thandavm/opt/anaconda3/lib/python3.8/site-packages (from langchain>=0.0.308->langchain_experimental) (3.8.4)\n",
      "Requirement already satisfied: anyio<4.0 in /Users/thandavm/opt/anaconda3/lib/python3.8/site-packages (from langchain>=0.0.308->langchain_experimental) (3.7.0)\n",
      "Requirement already satisfied: async-timeout<5.0.0,>=4.0.0 in /Users/thandavm/opt/anaconda3/lib/python3.8/site-packages (from langchain>=0.0.308->langchain_experimental) (4.0.2)\n",
      "Requirement already satisfied: dataclasses-json<0.7,>=0.5.7 in /Users/thandavm/opt/anaconda3/lib/python3.8/site-packages (from langchain>=0.0.308->langchain_experimental) (0.5.7)\n",
      "Requirement already satisfied: jsonpatch<2.0,>=1.33 in /Users/thandavm/opt/anaconda3/lib/python3.8/site-packages (from langchain>=0.0.308->langchain_experimental) (1.33)\n",
      "Collecting langsmith<0.1.0,>=0.0.43 (from langchain>=0.0.308->langchain_experimental)\n",
      "  Obtaining dependency information for langsmith<0.1.0,>=0.0.43 from https://files.pythonhosted.org/packages/9b/6c/fd466f647634ef4a668ea109bf0892d7f78882ffe09500429081ed6dae4a/langsmith-0.0.43-py3-none-any.whl.metadata\n",
      "  Downloading langsmith-0.0.43-py3-none-any.whl.metadata (10 kB)\n",
      "Requirement already satisfied: numpy<2,>=1 in /Users/thandavm/opt/anaconda3/lib/python3.8/site-packages (from langchain>=0.0.308->langchain_experimental) (1.23.5)\n",
      "Requirement already satisfied: pydantic<3,>=1 in /Users/thandavm/opt/anaconda3/lib/python3.8/site-packages (from langchain>=0.0.308->langchain_experimental) (1.10.7)\n",
      "Requirement already satisfied: requests<3,>=2 in /Users/thandavm/opt/anaconda3/lib/python3.8/site-packages (from langchain>=0.0.308->langchain_experimental) (2.31.0)\n",
      "Requirement already satisfied: tenacity<9.0.0,>=8.1.0 in /Users/thandavm/opt/anaconda3/lib/python3.8/site-packages (from langchain>=0.0.308->langchain_experimental) (8.2.2)\n",
      "Requirement already satisfied: attrs>=17.3.0 in /Users/thandavm/opt/anaconda3/lib/python3.8/site-packages (from aiohttp<4.0.0,>=3.8.3->langchain>=0.0.308->langchain_experimental) (22.2.0)\n",
      "Requirement already satisfied: charset-normalizer<4.0,>=2.0 in /Users/thandavm/opt/anaconda3/lib/python3.8/site-packages (from aiohttp<4.0.0,>=3.8.3->langchain>=0.0.308->langchain_experimental) (3.1.0)\n",
      "Requirement already satisfied: multidict<7.0,>=4.5 in /Users/thandavm/opt/anaconda3/lib/python3.8/site-packages (from aiohttp<4.0.0,>=3.8.3->langchain>=0.0.308->langchain_experimental) (6.0.2)\n",
      "Requirement already satisfied: yarl<2.0,>=1.0 in /Users/thandavm/opt/anaconda3/lib/python3.8/site-packages (from aiohttp<4.0.0,>=3.8.3->langchain>=0.0.308->langchain_experimental) (1.7.2)\n",
      "Requirement already satisfied: frozenlist>=1.1.1 in /Users/thandavm/opt/anaconda3/lib/python3.8/site-packages (from aiohttp<4.0.0,>=3.8.3->langchain>=0.0.308->langchain_experimental) (1.3.0)\n",
      "Requirement already satisfied: aiosignal>=1.1.2 in /Users/thandavm/opt/anaconda3/lib/python3.8/site-packages (from aiohttp<4.0.0,>=3.8.3->langchain>=0.0.308->langchain_experimental) (1.2.0)\n",
      "Requirement already satisfied: idna>=2.8 in /Users/thandavm/opt/anaconda3/lib/python3.8/site-packages (from anyio<4.0->langchain>=0.0.308->langchain_experimental) (3.4)\n",
      "Requirement already satisfied: sniffio>=1.1 in /Users/thandavm/opt/anaconda3/lib/python3.8/site-packages (from anyio<4.0->langchain>=0.0.308->langchain_experimental) (1.2.0)\n",
      "Requirement already satisfied: exceptiongroup in /Users/thandavm/opt/anaconda3/lib/python3.8/site-packages (from anyio<4.0->langchain>=0.0.308->langchain_experimental) (1.1.1)\n",
      "Requirement already satisfied: marshmallow<4.0.0,>=3.3.0 in /Users/thandavm/opt/anaconda3/lib/python3.8/site-packages (from dataclasses-json<0.7,>=0.5.7->langchain>=0.0.308->langchain_experimental) (3.19.0)\n",
      "Requirement already satisfied: marshmallow-enum<2.0.0,>=1.5.1 in /Users/thandavm/opt/anaconda3/lib/python3.8/site-packages (from dataclasses-json<0.7,>=0.5.7->langchain>=0.0.308->langchain_experimental) (1.5.1)\n",
      "Requirement already satisfied: typing-inspect>=0.4.0 in /Users/thandavm/opt/anaconda3/lib/python3.8/site-packages (from dataclasses-json<0.7,>=0.5.7->langchain>=0.0.308->langchain_experimental) (0.8.0)\n",
      "Requirement already satisfied: jsonpointer>=1.9 in /Users/thandavm/opt/anaconda3/lib/python3.8/site-packages (from jsonpatch<2.0,>=1.33->langchain>=0.0.308->langchain_experimental) (2.3)\n",
      "Requirement already satisfied: typing-extensions>=4.2.0 in /Users/thandavm/opt/anaconda3/lib/python3.8/site-packages (from pydantic<3,>=1->langchain>=0.0.308->langchain_experimental) (4.6.3)\n",
      "Requirement already satisfied: urllib3<3,>=1.21.1 in /Users/thandavm/opt/anaconda3/lib/python3.8/site-packages (from requests<3,>=2->langchain>=0.0.308->langchain_experimental) (1.26.15)\n",
      "Requirement already satisfied: certifi>=2017.4.17 in /Users/thandavm/opt/anaconda3/lib/python3.8/site-packages (from requests<3,>=2->langchain>=0.0.308->langchain_experimental) (2022.6.15)\n",
      "Requirement already satisfied: greenlet!=0.4.17 in /Users/thandavm/opt/anaconda3/lib/python3.8/site-packages (from SQLAlchemy<3,>=1.4->langchain>=0.0.308->langchain_experimental) (2.0.2)\n",
      "Requirement already satisfied: packaging>=17.0 in /Users/thandavm/opt/anaconda3/lib/python3.8/site-packages (from marshmallow<4.0.0,>=3.3.0->dataclasses-json<0.7,>=0.5.7->langchain>=0.0.308->langchain_experimental) (21.3)\n",
      "Requirement already satisfied: mypy-extensions>=0.3.0 in /Users/thandavm/opt/anaconda3/lib/python3.8/site-packages (from typing-inspect>=0.4.0->dataclasses-json<0.7,>=0.5.7->langchain>=0.0.308->langchain_experimental) (1.0.0)\n",
      "Requirement already satisfied: pyparsing!=3.0.5,>=2.0.2 in /Users/thandavm/opt/anaconda3/lib/python3.8/site-packages (from packaging>=17.0->marshmallow<4.0.0,>=3.3.0->dataclasses-json<0.7,>=0.5.7->langchain>=0.0.308->langchain_experimental) (3.0.9)\n",
      "Downloading langchain_experimental-0.0.27-py3-none-any.whl (135 kB)\n",
      "\u001b[2K   \u001b[90m━━━━━━━━━━━━━━━━━━━━━━━━━━━━━━━━━━━━━━━━\u001b[0m \u001b[32m135.8/135.8 kB\u001b[0m \u001b[31m1.7 MB/s\u001b[0m eta \u001b[36m0:00:00\u001b[0m00:01\u001b[0m0:01\u001b[0m\n",
      "\u001b[?25hDownloading langchain-0.0.311-py3-none-any.whl (1.8 MB)\n",
      "\u001b[2K   \u001b[90m━━━━━━━━━━━━━━━━━━━━━━━━━━━━━━━━━━━━━━━━\u001b[0m \u001b[32m1.8/1.8 MB\u001b[0m \u001b[31m6.2 MB/s\u001b[0m eta \u001b[36m0:00:00\u001b[0m00:01\u001b[0m00:01\u001b[0m\n",
      "\u001b[?25hDownloading langsmith-0.0.43-py3-none-any.whl (40 kB)\n",
      "\u001b[2K   \u001b[90m━━━━━━━━━━━━━━━━━━━━━━━━━━━━━━━━━━━━━━━━\u001b[0m \u001b[32m40.0/40.0 kB\u001b[0m \u001b[31m1.2 MB/s\u001b[0m eta \u001b[36m0:00:00\u001b[0m\n",
      "\u001b[?25h\u001b[33mWARNING: Ignoring invalid distribution - (/Users/thandavm/opt/anaconda3/lib/python3.8/site-packages)\u001b[0m\u001b[33m\n",
      "\u001b[0m\u001b[33mWARNING: Ignoring invalid distribution -yyaml (/Users/thandavm/opt/anaconda3/lib/python3.8/site-packages)\u001b[0m\u001b[33m\n",
      "\u001b[0m\u001b[33mDEPRECATION: pyodbc 4.0.0-unsupported has a non-standard version number. pip 23.3 will enforce this behaviour change. A possible replacement is to upgrade to a newer version of pyodbc or contact the author to suggest that they release a version with a conforming version number. Discussion can be found at https://github.com/pypa/pip/issues/12063\u001b[0m\u001b[33m\n",
      "\u001b[0m\u001b[33mDEPRECATION: textract 1.6.5 has a non-standard dependency specifier extract-msg<=0.29.*. pip 23.3 will enforce this behaviour change. A possible replacement is to upgrade to a newer version of textract or contact the author to suggest that they release a version with a conforming dependency specifiers. Discussion can be found at https://github.com/pypa/pip/issues/12063\u001b[0m\u001b[33m\n",
      "\u001b[0mInstalling collected packages: langsmith, langchain, langchain_experimental\n",
      "  Attempting uninstall: langsmith\n",
      "    Found existing installation: langsmith 0.0.41\n",
      "    Uninstalling langsmith-0.0.41:\n",
      "      Successfully uninstalled langsmith-0.0.41\n",
      "  Attempting uninstall: langchain\n",
      "    Found existing installation: langchain 0.0.306\n",
      "    Uninstalling langchain-0.0.306:\n",
      "      Successfully uninstalled langchain-0.0.306\n",
      "Successfully installed langchain-0.0.311 langchain_experimental-0.0.27 langsmith-0.0.43\n"
     ]
    }
   ],
   "source": [
    "!pip install langchain_experimental"
   ]
  },
  {
   "cell_type": "code",
   "execution_count": 3,
   "metadata": {},
   "outputs": [],
   "source": [
    "from langchain.utilities import SQLDatabase\n",
    "from langchain.llms import OpenAI\n",
    "from langchain_experimental.sql import SQLDatabaseChain\n",
    "\n",
    "db = SQLDatabase.from_uri(\"sqlite:///../data/Chinook.db\")\n"
   ]
  },
  {
   "cell_type": "code",
   "execution_count": 4,
   "metadata": {},
   "outputs": [],
   "source": [
    "from langchain.llms.bedrock import Bedrock\n",
    "\n",
    "inference_modifier = {'max_tokens_to_sample':4096, \n",
    "                      \"temperature\":0.5,\n",
    "                      \"top_k\":250,\n",
    "                      \"top_p\":1,\n",
    "                      \"stop_sequences\": [\"\\n\\nHuman\"]\n",
    "                     }\n",
    "\n",
    "textgen_llm = Bedrock(model_id = \"anthropic.claude-v2\",\n",
    "                    model_kwargs = inference_modifier \n",
    "                    )\n",
    "\n",
    "db_chain = SQLDatabaseChain.from_llm(textgen_llm, db, verbose=True)"
   ]
  },
  {
   "cell_type": "code",
   "execution_count": 6,
   "metadata": {},
   "outputs": [
    {
     "name": "stdout",
     "output_type": "stream",
     "text": [
      "\n",
      "\n",
      "\u001b[1m> Entering new SQLDatabaseChain chain...\u001b[0m\n",
      "How many employees are there?\n",
      "SQLQuery:\u001b[32;1m\u001b[1;3mHere is the SQL query and result to find the number of employees:\n",
      "\n",
      "SQLQuery:\n",
      "SELECT COUNT(*) AS \"NumEmployees\" \n",
      "FROM \"Employee\"\u001b[0m"
     ]
    },
    {
     "ename": "OperationalError",
     "evalue": "(sqlite3.OperationalError) near \"Here\": syntax error\n[SQL: Here is the SQL query and result to find the number of employees:\n\nSQLQuery:\nSELECT COUNT(*) AS \"NumEmployees\" \nFROM \"Employee\"]\n(Background on this error at: https://sqlalche.me/e/20/e3q8)",
     "output_type": "error",
     "traceback": [
      "\u001b[0;31m---------------------------------------------------------------------------\u001b[0m",
      "\u001b[0;31mOperationalError\u001b[0m                          Traceback (most recent call last)",
      "File \u001b[0;32m~/opt/anaconda3/lib/python3.8/site-packages/sqlalchemy/engine/base.py:1965\u001b[0m, in \u001b[0;36mConnection._exec_single_context\u001b[0;34m(self, dialect, context, statement, parameters)\u001b[0m\n\u001b[1;32m   1964\u001b[0m     \u001b[39mif\u001b[39;00m \u001b[39mnot\u001b[39;00m evt_handled:\n\u001b[0;32m-> 1965\u001b[0m         \u001b[39mself\u001b[39;49m\u001b[39m.\u001b[39;49mdialect\u001b[39m.\u001b[39;49mdo_execute(\n\u001b[1;32m   1966\u001b[0m             cursor, str_statement, effective_parameters, context\n\u001b[1;32m   1967\u001b[0m         )\n\u001b[1;32m   1969\u001b[0m \u001b[39mif\u001b[39;00m \u001b[39mself\u001b[39m\u001b[39m.\u001b[39m_has_events \u001b[39mor\u001b[39;00m \u001b[39mself\u001b[39m\u001b[39m.\u001b[39mengine\u001b[39m.\u001b[39m_has_events:\n",
      "File \u001b[0;32m~/opt/anaconda3/lib/python3.8/site-packages/sqlalchemy/engine/default.py:921\u001b[0m, in \u001b[0;36mDefaultDialect.do_execute\u001b[0;34m(self, cursor, statement, parameters, context)\u001b[0m\n\u001b[1;32m    920\u001b[0m \u001b[39mdef\u001b[39;00m \u001b[39mdo_execute\u001b[39m(\u001b[39mself\u001b[39m, cursor, statement, parameters, context\u001b[39m=\u001b[39m\u001b[39mNone\u001b[39;00m):\n\u001b[0;32m--> 921\u001b[0m     cursor\u001b[39m.\u001b[39;49mexecute(statement, parameters)\n",
      "\u001b[0;31mOperationalError\u001b[0m: near \"Here\": syntax error",
      "\nThe above exception was the direct cause of the following exception:\n",
      "\u001b[0;31mOperationalError\u001b[0m                          Traceback (most recent call last)",
      "\u001b[1;32m/Users/thandavm/work/thandavm-git/ga-bedrock/coderapp/notebooks/sample.ipynb Cell 14\u001b[0m line \u001b[0;36m1\n\u001b[0;32m----> <a href='vscode-notebook-cell:/Users/thandavm/work/thandavm-git/ga-bedrock/coderapp/notebooks/sample.ipynb#X14sZmlsZQ%3D%3D?line=0'>1</a>\u001b[0m db_chain\u001b[39m.\u001b[39;49mrun(\u001b[39m\"\u001b[39;49m\u001b[39mHow many employees are there?\u001b[39;49m\u001b[39m\"\u001b[39;49m)\n",
      "File \u001b[0;32m~/opt/anaconda3/lib/python3.8/site-packages/langchain/chains/base.py:501\u001b[0m, in \u001b[0;36mChain.run\u001b[0;34m(self, callbacks, tags, metadata, *args, **kwargs)\u001b[0m\n\u001b[1;32m    499\u001b[0m     \u001b[39mif\u001b[39;00m \u001b[39mlen\u001b[39m(args) \u001b[39m!=\u001b[39m \u001b[39m1\u001b[39m:\n\u001b[1;32m    500\u001b[0m         \u001b[39mraise\u001b[39;00m \u001b[39mValueError\u001b[39;00m(\u001b[39m\"\u001b[39m\u001b[39m`run` supports only one positional argument.\u001b[39m\u001b[39m\"\u001b[39m)\n\u001b[0;32m--> 501\u001b[0m     \u001b[39mreturn\u001b[39;00m \u001b[39mself\u001b[39;49m(args[\u001b[39m0\u001b[39;49m], callbacks\u001b[39m=\u001b[39;49mcallbacks, tags\u001b[39m=\u001b[39;49mtags, metadata\u001b[39m=\u001b[39;49mmetadata)[\n\u001b[1;32m    502\u001b[0m         _output_key\n\u001b[1;32m    503\u001b[0m     ]\n\u001b[1;32m    505\u001b[0m \u001b[39mif\u001b[39;00m kwargs \u001b[39mand\u001b[39;00m \u001b[39mnot\u001b[39;00m args:\n\u001b[1;32m    506\u001b[0m     \u001b[39mreturn\u001b[39;00m \u001b[39mself\u001b[39m(kwargs, callbacks\u001b[39m=\u001b[39mcallbacks, tags\u001b[39m=\u001b[39mtags, metadata\u001b[39m=\u001b[39mmetadata)[\n\u001b[1;32m    507\u001b[0m         _output_key\n\u001b[1;32m    508\u001b[0m     ]\n",
      "File \u001b[0;32m~/opt/anaconda3/lib/python3.8/site-packages/langchain/chains/base.py:306\u001b[0m, in \u001b[0;36mChain.__call__\u001b[0;34m(self, inputs, return_only_outputs, callbacks, tags, metadata, run_name, include_run_info)\u001b[0m\n\u001b[1;32m    304\u001b[0m \u001b[39mexcept\u001b[39;00m \u001b[39mBaseException\u001b[39;00m \u001b[39mas\u001b[39;00m e:\n\u001b[1;32m    305\u001b[0m     run_manager\u001b[39m.\u001b[39mon_chain_error(e)\n\u001b[0;32m--> 306\u001b[0m     \u001b[39mraise\u001b[39;00m e\n\u001b[1;32m    307\u001b[0m run_manager\u001b[39m.\u001b[39mon_chain_end(outputs)\n\u001b[1;32m    308\u001b[0m final_outputs: Dict[\u001b[39mstr\u001b[39m, Any] \u001b[39m=\u001b[39m \u001b[39mself\u001b[39m\u001b[39m.\u001b[39mprep_outputs(\n\u001b[1;32m    309\u001b[0m     inputs, outputs, return_only_outputs\n\u001b[1;32m    310\u001b[0m )\n",
      "File \u001b[0;32m~/opt/anaconda3/lib/python3.8/site-packages/langchain/chains/base.py:300\u001b[0m, in \u001b[0;36mChain.__call__\u001b[0;34m(self, inputs, return_only_outputs, callbacks, tags, metadata, run_name, include_run_info)\u001b[0m\n\u001b[1;32m    293\u001b[0m run_manager \u001b[39m=\u001b[39m callback_manager\u001b[39m.\u001b[39mon_chain_start(\n\u001b[1;32m    294\u001b[0m     dumpd(\u001b[39mself\u001b[39m),\n\u001b[1;32m    295\u001b[0m     inputs,\n\u001b[1;32m    296\u001b[0m     name\u001b[39m=\u001b[39mrun_name,\n\u001b[1;32m    297\u001b[0m )\n\u001b[1;32m    298\u001b[0m \u001b[39mtry\u001b[39;00m:\n\u001b[1;32m    299\u001b[0m     outputs \u001b[39m=\u001b[39m (\n\u001b[0;32m--> 300\u001b[0m         \u001b[39mself\u001b[39;49m\u001b[39m.\u001b[39;49m_call(inputs, run_manager\u001b[39m=\u001b[39;49mrun_manager)\n\u001b[1;32m    301\u001b[0m         \u001b[39mif\u001b[39;00m new_arg_supported\n\u001b[1;32m    302\u001b[0m         \u001b[39melse\u001b[39;00m \u001b[39mself\u001b[39m\u001b[39m.\u001b[39m_call(inputs)\n\u001b[1;32m    303\u001b[0m     )\n\u001b[1;32m    304\u001b[0m \u001b[39mexcept\u001b[39;00m \u001b[39mBaseException\u001b[39;00m \u001b[39mas\u001b[39;00m e:\n\u001b[1;32m    305\u001b[0m     run_manager\u001b[39m.\u001b[39mon_chain_error(e)\n",
      "File \u001b[0;32m~/opt/anaconda3/lib/python3.8/site-packages/langchain_experimental/sql/base.py:198\u001b[0m, in \u001b[0;36mSQLDatabaseChain._call\u001b[0;34m(self, inputs, run_manager)\u001b[0m\n\u001b[1;32m    194\u001b[0m \u001b[39mexcept\u001b[39;00m \u001b[39mException\u001b[39;00m \u001b[39mas\u001b[39;00m exc:\n\u001b[1;32m    195\u001b[0m     \u001b[39m# Append intermediate steps to exception, to aid in logging and later\u001b[39;00m\n\u001b[1;32m    196\u001b[0m     \u001b[39m# improvement of few shot prompt seeds\u001b[39;00m\n\u001b[1;32m    197\u001b[0m     exc\u001b[39m.\u001b[39mintermediate_steps \u001b[39m=\u001b[39m intermediate_steps  \u001b[39m# type: ignore\u001b[39;00m\n\u001b[0;32m--> 198\u001b[0m     \u001b[39mraise\u001b[39;00m exc\n",
      "File \u001b[0;32m~/opt/anaconda3/lib/python3.8/site-packages/langchain_experimental/sql/base.py:143\u001b[0m, in \u001b[0;36mSQLDatabaseChain._call\u001b[0;34m(self, inputs, run_manager)\u001b[0m\n\u001b[1;32m    139\u001b[0m     intermediate_steps\u001b[39m.\u001b[39mappend(\n\u001b[1;32m    140\u001b[0m         sql_cmd\n\u001b[1;32m    141\u001b[0m     )  \u001b[39m# output: sql generation (no checker)\u001b[39;00m\n\u001b[1;32m    142\u001b[0m     intermediate_steps\u001b[39m.\u001b[39mappend({\u001b[39m\"\u001b[39m\u001b[39msql_cmd\u001b[39m\u001b[39m\"\u001b[39m: sql_cmd})  \u001b[39m# input: sql exec\u001b[39;00m\n\u001b[0;32m--> 143\u001b[0m     result \u001b[39m=\u001b[39m \u001b[39mself\u001b[39;49m\u001b[39m.\u001b[39;49mdatabase\u001b[39m.\u001b[39;49mrun(sql_cmd)\n\u001b[1;32m    144\u001b[0m     intermediate_steps\u001b[39m.\u001b[39mappend(\u001b[39mstr\u001b[39m(result))  \u001b[39m# output: sql exec\u001b[39;00m\n\u001b[1;32m    145\u001b[0m \u001b[39melse\u001b[39;00m:\n",
      "File \u001b[0;32m~/opt/anaconda3/lib/python3.8/site-packages/langchain/utilities/sql_database.py:429\u001b[0m, in \u001b[0;36mSQLDatabase.run\u001b[0;34m(self, command, fetch)\u001b[0m\n\u001b[1;32m    419\u001b[0m \u001b[39mdef\u001b[39;00m \u001b[39mrun\u001b[39m(\n\u001b[1;32m    420\u001b[0m     \u001b[39mself\u001b[39m,\n\u001b[1;32m    421\u001b[0m     command: \u001b[39mstr\u001b[39m,\n\u001b[1;32m    422\u001b[0m     fetch: Union[Literal[\u001b[39m\"\u001b[39m\u001b[39mall\u001b[39m\u001b[39m\"\u001b[39m], Literal[\u001b[39m\"\u001b[39m\u001b[39mone\u001b[39m\u001b[39m\"\u001b[39m]] \u001b[39m=\u001b[39m \u001b[39m\"\u001b[39m\u001b[39mall\u001b[39m\u001b[39m\"\u001b[39m,\n\u001b[1;32m    423\u001b[0m ) \u001b[39m-\u001b[39m\u001b[39m>\u001b[39m \u001b[39mstr\u001b[39m:\n\u001b[1;32m    424\u001b[0m \u001b[39m    \u001b[39m\u001b[39m\"\"\"Execute a SQL command and return a string representing the results.\u001b[39;00m\n\u001b[1;32m    425\u001b[0m \n\u001b[1;32m    426\u001b[0m \u001b[39m    If the statement returns rows, a string of the results is returned.\u001b[39;00m\n\u001b[1;32m    427\u001b[0m \u001b[39m    If the statement returns no rows, an empty string is returned.\u001b[39;00m\n\u001b[1;32m    428\u001b[0m \u001b[39m    \"\"\"\u001b[39;00m\n\u001b[0;32m--> 429\u001b[0m     result \u001b[39m=\u001b[39m \u001b[39mself\u001b[39;49m\u001b[39m.\u001b[39;49m_execute(command, fetch)\n\u001b[1;32m    430\u001b[0m     \u001b[39m# Convert columns values to string to avoid issues with sqlalchemy\u001b[39;00m\n\u001b[1;32m    431\u001b[0m     \u001b[39m# truncating text\u001b[39;00m\n\u001b[1;32m    432\u001b[0m     res \u001b[39m=\u001b[39m [\n\u001b[1;32m    433\u001b[0m         \u001b[39mtuple\u001b[39m(truncate_word(c, length\u001b[39m=\u001b[39m\u001b[39mself\u001b[39m\u001b[39m.\u001b[39m_max_string_length) \u001b[39mfor\u001b[39;00m c \u001b[39min\u001b[39;00m r\u001b[39m.\u001b[39mvalues())\n\u001b[1;32m    434\u001b[0m         \u001b[39mfor\u001b[39;00m r \u001b[39min\u001b[39;00m result\n\u001b[1;32m    435\u001b[0m     ]\n",
      "File \u001b[0;32m~/opt/anaconda3/lib/python3.8/site-packages/langchain/utilities/sql_database.py:407\u001b[0m, in \u001b[0;36mSQLDatabase._execute\u001b[0;34m(self, command, fetch)\u001b[0m\n\u001b[1;32m    405\u001b[0m     \u001b[39melse\u001b[39;00m:  \u001b[39m# postgresql and other compatible dialects\u001b[39;00m\n\u001b[1;32m    406\u001b[0m         connection\u001b[39m.\u001b[39mexec_driver_sql(\u001b[39m\"\u001b[39m\u001b[39mSET search_path TO \u001b[39m\u001b[39m%s\u001b[39;00m\u001b[39m\"\u001b[39m, (\u001b[39mself\u001b[39m\u001b[39m.\u001b[39m_schema,))\n\u001b[0;32m--> 407\u001b[0m cursor \u001b[39m=\u001b[39m connection\u001b[39m.\u001b[39;49mexecute(text(command))\n\u001b[1;32m    408\u001b[0m \u001b[39mif\u001b[39;00m cursor\u001b[39m.\u001b[39mreturns_rows:\n\u001b[1;32m    409\u001b[0m     \u001b[39mif\u001b[39;00m fetch \u001b[39m==\u001b[39m \u001b[39m\"\u001b[39m\u001b[39mall\u001b[39m\u001b[39m\"\u001b[39m:\n",
      "File \u001b[0;32m~/opt/anaconda3/lib/python3.8/site-packages/sqlalchemy/engine/base.py:1412\u001b[0m, in \u001b[0;36mConnection.execute\u001b[0;34m(self, statement, parameters, execution_options)\u001b[0m\n\u001b[1;32m   1410\u001b[0m     \u001b[39mraise\u001b[39;00m exc\u001b[39m.\u001b[39mObjectNotExecutableError(statement) \u001b[39mfrom\u001b[39;00m \u001b[39merr\u001b[39;00m\n\u001b[1;32m   1411\u001b[0m \u001b[39melse\u001b[39;00m:\n\u001b[0;32m-> 1412\u001b[0m     \u001b[39mreturn\u001b[39;00m meth(\n\u001b[1;32m   1413\u001b[0m         \u001b[39mself\u001b[39;49m,\n\u001b[1;32m   1414\u001b[0m         distilled_parameters,\n\u001b[1;32m   1415\u001b[0m         execution_options \u001b[39mor\u001b[39;49;00m NO_OPTIONS,\n\u001b[1;32m   1416\u001b[0m     )\n",
      "File \u001b[0;32m~/opt/anaconda3/lib/python3.8/site-packages/sqlalchemy/sql/elements.py:516\u001b[0m, in \u001b[0;36mClauseElement._execute_on_connection\u001b[0;34m(self, connection, distilled_params, execution_options)\u001b[0m\n\u001b[1;32m    514\u001b[0m     \u001b[39mif\u001b[39;00m TYPE_CHECKING:\n\u001b[1;32m    515\u001b[0m         \u001b[39massert\u001b[39;00m \u001b[39misinstance\u001b[39m(\u001b[39mself\u001b[39m, Executable)\n\u001b[0;32m--> 516\u001b[0m     \u001b[39mreturn\u001b[39;00m connection\u001b[39m.\u001b[39;49m_execute_clauseelement(\n\u001b[1;32m    517\u001b[0m         \u001b[39mself\u001b[39;49m, distilled_params, execution_options\n\u001b[1;32m    518\u001b[0m     )\n\u001b[1;32m    519\u001b[0m \u001b[39melse\u001b[39;00m:\n\u001b[1;32m    520\u001b[0m     \u001b[39mraise\u001b[39;00m exc\u001b[39m.\u001b[39mObjectNotExecutableError(\u001b[39mself\u001b[39m)\n",
      "File \u001b[0;32m~/opt/anaconda3/lib/python3.8/site-packages/sqlalchemy/engine/base.py:1635\u001b[0m, in \u001b[0;36mConnection._execute_clauseelement\u001b[0;34m(self, elem, distilled_parameters, execution_options)\u001b[0m\n\u001b[1;32m   1623\u001b[0m compiled_cache: Optional[CompiledCacheType] \u001b[39m=\u001b[39m execution_options\u001b[39m.\u001b[39mget(\n\u001b[1;32m   1624\u001b[0m     \u001b[39m\"\u001b[39m\u001b[39mcompiled_cache\u001b[39m\u001b[39m\"\u001b[39m, \u001b[39mself\u001b[39m\u001b[39m.\u001b[39mengine\u001b[39m.\u001b[39m_compiled_cache\n\u001b[1;32m   1625\u001b[0m )\n\u001b[1;32m   1627\u001b[0m compiled_sql, extracted_params, cache_hit \u001b[39m=\u001b[39m elem\u001b[39m.\u001b[39m_compile_w_cache(\n\u001b[1;32m   1628\u001b[0m     dialect\u001b[39m=\u001b[39mdialect,\n\u001b[1;32m   1629\u001b[0m     compiled_cache\u001b[39m=\u001b[39mcompiled_cache,\n\u001b[0;32m   (...)\u001b[0m\n\u001b[1;32m   1633\u001b[0m     linting\u001b[39m=\u001b[39m\u001b[39mself\u001b[39m\u001b[39m.\u001b[39mdialect\u001b[39m.\u001b[39mcompiler_linting \u001b[39m|\u001b[39m compiler\u001b[39m.\u001b[39mWARN_LINTING,\n\u001b[1;32m   1634\u001b[0m )\n\u001b[0;32m-> 1635\u001b[0m ret \u001b[39m=\u001b[39m \u001b[39mself\u001b[39;49m\u001b[39m.\u001b[39;49m_execute_context(\n\u001b[1;32m   1636\u001b[0m     dialect,\n\u001b[1;32m   1637\u001b[0m     dialect\u001b[39m.\u001b[39;49mexecution_ctx_cls\u001b[39m.\u001b[39;49m_init_compiled,\n\u001b[1;32m   1638\u001b[0m     compiled_sql,\n\u001b[1;32m   1639\u001b[0m     distilled_parameters,\n\u001b[1;32m   1640\u001b[0m     execution_options,\n\u001b[1;32m   1641\u001b[0m     compiled_sql,\n\u001b[1;32m   1642\u001b[0m     distilled_parameters,\n\u001b[1;32m   1643\u001b[0m     elem,\n\u001b[1;32m   1644\u001b[0m     extracted_params,\n\u001b[1;32m   1645\u001b[0m     cache_hit\u001b[39m=\u001b[39;49mcache_hit,\n\u001b[1;32m   1646\u001b[0m )\n\u001b[1;32m   1647\u001b[0m \u001b[39mif\u001b[39;00m has_events:\n\u001b[1;32m   1648\u001b[0m     \u001b[39mself\u001b[39m\u001b[39m.\u001b[39mdispatch\u001b[39m.\u001b[39mafter_execute(\n\u001b[1;32m   1649\u001b[0m         \u001b[39mself\u001b[39m,\n\u001b[1;32m   1650\u001b[0m         elem,\n\u001b[0;32m   (...)\u001b[0m\n\u001b[1;32m   1654\u001b[0m         ret,\n\u001b[1;32m   1655\u001b[0m     )\n",
      "File \u001b[0;32m~/opt/anaconda3/lib/python3.8/site-packages/sqlalchemy/engine/base.py:1844\u001b[0m, in \u001b[0;36mConnection._execute_context\u001b[0;34m(self, dialect, constructor, statement, parameters, execution_options, *args, **kw)\u001b[0m\n\u001b[1;32m   1839\u001b[0m     \u001b[39mreturn\u001b[39;00m \u001b[39mself\u001b[39m\u001b[39m.\u001b[39m_exec_insertmany_context(\n\u001b[1;32m   1840\u001b[0m         dialect,\n\u001b[1;32m   1841\u001b[0m         context,\n\u001b[1;32m   1842\u001b[0m     )\n\u001b[1;32m   1843\u001b[0m \u001b[39melse\u001b[39;00m:\n\u001b[0;32m-> 1844\u001b[0m     \u001b[39mreturn\u001b[39;00m \u001b[39mself\u001b[39;49m\u001b[39m.\u001b[39;49m_exec_single_context(\n\u001b[1;32m   1845\u001b[0m         dialect, context, statement, parameters\n\u001b[1;32m   1846\u001b[0m     )\n",
      "File \u001b[0;32m~/opt/anaconda3/lib/python3.8/site-packages/sqlalchemy/engine/base.py:1984\u001b[0m, in \u001b[0;36mConnection._exec_single_context\u001b[0;34m(self, dialect, context, statement, parameters)\u001b[0m\n\u001b[1;32m   1981\u001b[0m     result \u001b[39m=\u001b[39m context\u001b[39m.\u001b[39m_setup_result_proxy()\n\u001b[1;32m   1983\u001b[0m \u001b[39mexcept\u001b[39;00m \u001b[39mBaseException\u001b[39;00m \u001b[39mas\u001b[39;00m e:\n\u001b[0;32m-> 1984\u001b[0m     \u001b[39mself\u001b[39;49m\u001b[39m.\u001b[39;49m_handle_dbapi_exception(\n\u001b[1;32m   1985\u001b[0m         e, str_statement, effective_parameters, cursor, context\n\u001b[1;32m   1986\u001b[0m     )\n\u001b[1;32m   1988\u001b[0m \u001b[39mreturn\u001b[39;00m result\n",
      "File \u001b[0;32m~/opt/anaconda3/lib/python3.8/site-packages/sqlalchemy/engine/base.py:2339\u001b[0m, in \u001b[0;36mConnection._handle_dbapi_exception\u001b[0;34m(self, e, statement, parameters, cursor, context, is_sub_exec)\u001b[0m\n\u001b[1;32m   2337\u001b[0m \u001b[39melif\u001b[39;00m should_wrap:\n\u001b[1;32m   2338\u001b[0m     \u001b[39massert\u001b[39;00m sqlalchemy_exception \u001b[39mis\u001b[39;00m \u001b[39mnot\u001b[39;00m \u001b[39mNone\u001b[39;00m\n\u001b[0;32m-> 2339\u001b[0m     \u001b[39mraise\u001b[39;00m sqlalchemy_exception\u001b[39m.\u001b[39mwith_traceback(exc_info[\u001b[39m2\u001b[39m]) \u001b[39mfrom\u001b[39;00m \u001b[39me\u001b[39;00m\n\u001b[1;32m   2340\u001b[0m \u001b[39melse\u001b[39;00m:\n\u001b[1;32m   2341\u001b[0m     \u001b[39massert\u001b[39;00m exc_info[\u001b[39m1\u001b[39m] \u001b[39mis\u001b[39;00m \u001b[39mnot\u001b[39;00m \u001b[39mNone\u001b[39;00m\n",
      "File \u001b[0;32m~/opt/anaconda3/lib/python3.8/site-packages/sqlalchemy/engine/base.py:1965\u001b[0m, in \u001b[0;36mConnection._exec_single_context\u001b[0;34m(self, dialect, context, statement, parameters)\u001b[0m\n\u001b[1;32m   1963\u001b[0m                 \u001b[39mbreak\u001b[39;00m\n\u001b[1;32m   1964\u001b[0m     \u001b[39mif\u001b[39;00m \u001b[39mnot\u001b[39;00m evt_handled:\n\u001b[0;32m-> 1965\u001b[0m         \u001b[39mself\u001b[39;49m\u001b[39m.\u001b[39;49mdialect\u001b[39m.\u001b[39;49mdo_execute(\n\u001b[1;32m   1966\u001b[0m             cursor, str_statement, effective_parameters, context\n\u001b[1;32m   1967\u001b[0m         )\n\u001b[1;32m   1969\u001b[0m \u001b[39mif\u001b[39;00m \u001b[39mself\u001b[39m\u001b[39m.\u001b[39m_has_events \u001b[39mor\u001b[39;00m \u001b[39mself\u001b[39m\u001b[39m.\u001b[39mengine\u001b[39m.\u001b[39m_has_events:\n\u001b[1;32m   1970\u001b[0m     \u001b[39mself\u001b[39m\u001b[39m.\u001b[39mdispatch\u001b[39m.\u001b[39mafter_cursor_execute(\n\u001b[1;32m   1971\u001b[0m         \u001b[39mself\u001b[39m,\n\u001b[1;32m   1972\u001b[0m         cursor,\n\u001b[0;32m   (...)\u001b[0m\n\u001b[1;32m   1976\u001b[0m         context\u001b[39m.\u001b[39mexecutemany,\n\u001b[1;32m   1977\u001b[0m     )\n",
      "File \u001b[0;32m~/opt/anaconda3/lib/python3.8/site-packages/sqlalchemy/engine/default.py:921\u001b[0m, in \u001b[0;36mDefaultDialect.do_execute\u001b[0;34m(self, cursor, statement, parameters, context)\u001b[0m\n\u001b[1;32m    920\u001b[0m \u001b[39mdef\u001b[39;00m \u001b[39mdo_execute\u001b[39m(\u001b[39mself\u001b[39m, cursor, statement, parameters, context\u001b[39m=\u001b[39m\u001b[39mNone\u001b[39;00m):\n\u001b[0;32m--> 921\u001b[0m     cursor\u001b[39m.\u001b[39;49mexecute(statement, parameters)\n",
      "\u001b[0;31mOperationalError\u001b[0m: (sqlite3.OperationalError) near \"Here\": syntax error\n[SQL: Here is the SQL query and result to find the number of employees:\n\nSQLQuery:\nSELECT COUNT(*) AS \"NumEmployees\" \nFROM \"Employee\"]\n(Background on this error at: https://sqlalche.me/e/20/e3q8)"
     ]
    }
   ],
   "source": [
    "db_chain.run(\"How many employees are there?\")"
   ]
  }
 ],
 "metadata": {
  "kernelspec": {
   "display_name": "base",
   "language": "python",
   "name": "python3"
  },
  "language_info": {
   "codemirror_mode": {
    "name": "ipython",
    "version": 3
   },
   "file_extension": ".py",
   "mimetype": "text/x-python",
   "name": "python",
   "nbconvert_exporter": "python",
   "pygments_lexer": "ipython3",
   "version": "3.11.5"
  },
  "orig_nbformat": 4
 },
 "nbformat": 4,
 "nbformat_minor": 2
}
