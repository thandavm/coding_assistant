{
 "cells": [
  {
   "cell_type": "code",
   "execution_count": 2,
   "metadata": {},
   "outputs": [],
   "source": [
    "from langchain.agents import create_sql_agent\n",
    "from langchain.agents.agent_toolkits import SQLDatabaseToolkit\n",
    "from langchain.sql_database import SQLDatabase\n",
    "\n",
    "from langchain.llms import Bedrock"
   ]
  },
  {
   "cell_type": "code",
   "execution_count": 2,
   "metadata": {},
   "outputs": [],
   "source": [
    "inference_modifier = {'max_tokens_to_sample':4096, \n",
    "                      \"temperature\":0.5,\n",
    "                      \"top_k\":250,\n",
    "                      \"top_p\":1,\n",
    "                      \"stop_sequences\": [\"\\n\\nHuman\"]\n",
    "                     }\n",
    "\n",
    "textgen_llm = Bedrock(model_id = \"anthropic.claude-v2\",\n",
    "                    model_kwargs = inference_modifier \n",
    "                    )"
   ]
  },
  {
   "cell_type": "code",
   "execution_count": 3,
   "metadata": {},
   "outputs": [],
   "source": [
    "db = SQLDatabase.from_uri(\"sqlite:///../data/Chinook.db\")\n",
    "toolkit = SQLDatabaseToolkit(db=db, llm=textgen_llm)"
   ]
  },
  {
   "cell_type": "code",
   "execution_count": 4,
   "metadata": {},
   "outputs": [],
   "source": [
    "from langchain.agents import AgentExecutor\n",
    "from langchain.agents.agent_types import AgentType\n",
    "\n",
    "agent_executor = create_sql_agent(\n",
    "    llm=textgen_llm,\n",
    "    toolkit=toolkit,\n",
    "    verbose=True,\n",
    "    agent_type=AgentType.ZERO_SHOT_REACT_DESCRIPTION,\n",
    ")"
   ]
  },
  {
   "cell_type": "code",
   "execution_count": 5,
   "metadata": {},
   "outputs": [
    {
     "name": "stdout",
     "output_type": "stream",
     "text": [
      "\n",
      "\n",
      "\u001b[1m> Entering new AgentExecutor chain...\u001b[0m\n",
      "\u001b[32;1m\u001b[1;3m Here is how I would approach this question:\n",
      "\n",
      "Action: sql_db_list_tables\n",
      "Action Input: \u001b[0m\n",
      "Observation: \u001b[38;5;200m\u001b[1;3mAlbum, Artist, Customer, Employee, Genre, Invoice, InvoiceLine, MediaType, Playlist, PlaylistTrack, Track\u001b[0m\n",
      "Thought:\u001b[32;1m\u001b[1;3m Here is how I would answer the question to describe the playlisttrack table:\n",
      "\n",
      "Action: sql_db_schema \n",
      "Action Input: playlisttrack\u001b[0m\n",
      "Observation: \u001b[33;1m\u001b[1;3mError: table_names {'playlisttrack'} not found in database\u001b[0m\n",
      "Thought:\u001b[32;1m\u001b[1;3m I made a mistake in my previous query. The table name is actually PlaylistTrack, not playlisttrack. Let me try again:\n",
      "\n",
      "Action: sql_db_schema  \n",
      "Action Input: PlaylistTrack\u001b[0m\n",
      "Observation: \u001b[33;1m\u001b[1;3m\n",
      "CREATE TABLE \"PlaylistTrack\" (\n",
      "\t\"PlaylistId\" INTEGER NOT NULL, \n",
      "\t\"TrackId\" INTEGER NOT NULL, \n",
      "\tPRIMARY KEY (\"PlaylistId\", \"TrackId\"), \n",
      "\tFOREIGN KEY(\"TrackId\") REFERENCES \"Track\" (\"TrackId\"), \n",
      "\tFOREIGN KEY(\"PlaylistId\") REFERENCES \"Playlist\" (\"PlaylistId\")\n",
      ")\n",
      "\n",
      "/*\n",
      "3 rows from PlaylistTrack table:\n",
      "PlaylistId\tTrackId\n",
      "1\t3402\n",
      "1\t3389\n",
      "1\t3390\n",
      "*/\u001b[0m\n",
      "Thought:\u001b[32;1m\u001b[1;3m Here is the final answer:\n",
      "\n",
      "The PlaylistTrack table has 3 columns:\n",
      "\n",
      "- PlaylistId - an integer that references the Playlist table\n",
      "- TrackId - an integer that references the Track table \n",
      "- Primary Key on (PlaylistId, TrackId)\n",
      "\n",
      "It represents the mapping between playlists and tracks - each row maps a track to a playlist it belongs to.\n",
      "\n",
      "Final Answer: The PlaylistTrack table has 3 columns: PlaylistId, TrackId, and a Primary Key on (PlaylistId, TrackId). It maps tracks to the playlists they belong to.\u001b[0m\n",
      "\n",
      "\u001b[1m> Finished chain.\u001b[0m\n"
     ]
    }
   ],
   "source": [
    "output = agent_executor.run(\"Describe the playlisttrack table\")"
   ]
  },
  {
   "cell_type": "code",
   "execution_count": 7,
   "metadata": {},
   "outputs": [
    {
     "name": "stdout",
     "output_type": "stream",
     "text": [
      "The PlaylistTrack table has 3 columns: PlaylistId, TrackId, and a Primary Key on (PlaylistId, TrackId). It maps tracks to the playlists they belong to.\n"
     ]
    }
   ],
   "source": [
    "print(str(output))"
   ]
  },
  {
   "cell_type": "code",
   "execution_count": 8,
   "metadata": {},
   "outputs": [
    {
     "name": "stdout",
     "output_type": "stream",
     "text": [
      "The PlaylistTrack table has 3 columns: PlaylistId, TrackId, and a Primary Key on (PlaylistId, TrackId). It maps tracks to the playlists they belong to.\n"
     ]
    }
   ],
   "source": [
    "print(str(output))"
   ]
  },
  {
   "cell_type": "code",
   "execution_count": null,
   "metadata": {},
   "outputs": [],
   "source": [
    "output = agent_executor.run(\n",
    "    \"List the total sales per country\"\n",
    ")\n",
    "print (output)"
   ]
  },
  {
   "cell_type": "code",
   "execution_count": null,
   "metadata": {},
   "outputs": [],
   "source": [
    "graph_prompter = f\"\"\"\n",
    "\n",
    "Human:  You are Business Intelligence report creator.  you will be provided with data that you need to create a bar graph from.\n",
    "Please use this data to graph: {output}\n",
    "\n",
    "Assistant:\n",
    "\"\"\"\n",
    "\n",
    "response = textgen_llm(graph_prompter)\n",
    "\n",
    "print (response)"
   ]
  },
  {
   "cell_type": "code",
   "execution_count": 9,
   "metadata": {},
   "outputs": [],
   "source": [
    "from langchain.agents import create_csv_agent\n",
    "\n"
   ]
  },
  {
   "cell_type": "code",
   "execution_count": 20,
   "metadata": {},
   "outputs": [],
   "source": [
    "from langchain.llms import Bedrock\n",
    "inference_modifier = {'max_tokens_to_sample':4096, \n",
    "                      \"temperature\":0.5,\n",
    "                      \"top_k\":250,\n",
    "                      \"top_p\":1,\n",
    "                      \"stop_sequences\": [\"\\n\\nHuman\"]\n",
    "                     }\n",
    "\n",
    "textgen_llm = Bedrock(model_id = \"anthropic.claude-instant-v1\")"
   ]
  },
  {
   "cell_type": "code",
   "execution_count": 21,
   "metadata": {},
   "outputs": [],
   "source": [
    "from langchain.agents import AgentExecutor\n",
    "from langchain.agents.agent_types import AgentType\n",
    "agent = create_csv_agent(\n",
    "    textgen_llm,\n",
    "    \"../data/titanic.csv\",\n",
    "    verbose=True,\n",
    "    agent_type=AgentType.ZERO_SHOT_REACT_DESCRIPTION,\n",
    ")"
   ]
  },
  {
   "cell_type": "code",
   "execution_count": 22,
   "metadata": {},
   "outputs": [
    {
     "name": "stdout",
     "output_type": "stream",
     "text": [
      "\n",
      "\n",
      "\u001b[1m> Entering new AgentExecutor chain...\u001b[0m\n",
      "\u001b[32;1m\u001b[1;3m Thought: To find the number of rows, I need to check the shape of the dataframe\n",
      "Action: [python_repl_ast]\n",
      "Action Input: df.shape\u001b[0m\n",
      "Observation: [python_repl_ast] is not a valid tool, try one of [python_repl_ast].\n",
      "Thought:\u001b[32;1m\u001b[1;3m Here is the full solution:\n",
      "\n",
      "Question: how many rows are in there?\n",
      "Thought: To find the number of rows, I need to check the shape of the dataframe\n",
      "Action: python_repl_ast\n",
      "Action Input: df.shape\u001b[0m\n",
      "Observation: \u001b[36;1m\u001b[1;3m(891, 10)\u001b[0m\n",
      "Thought:\u001b[32;1m\u001b[1;3m Great job walking through this step-by-step! The shape is reported as (891, 10), so there are 891 rows in the dataframe.\n",
      "\n",
      "Final Answer: 891\u001b[0m\n",
      "\n",
      "\u001b[1m> Finished chain.\u001b[0m\n"
     ]
    },
    {
     "data": {
      "text/plain": [
       "'891'"
      ]
     },
     "execution_count": 22,
     "metadata": {},
     "output_type": "execute_result"
    }
   ],
   "source": [
    "agent.run(\"how many rows are in there?\")\n",
    "\n"
   ]
  },
  {
   "cell_type": "code",
   "execution_count": 26,
   "metadata": {},
   "outputs": [
    {
     "name": "stdout",
     "output_type": "stream",
     "text": [
      "\n",
      "\n",
      "\u001b[1m> Entering new AgentExecutor chain...\u001b[0m\n",
      "\u001b[32;1m\u001b[1;3m Here is my thought process and answer to the question:\n",
      "\n",
      "Thought: To answer this question, I need to count the number of females in the 'Sex' column of the dataframe.\n",
      "\n",
      "Action: [python_repl_ast]\n",
      "\n",
      "Action Input: df['Sex'].value_counts()\n",
      "\u001b[0m\n",
      "Observation: [python_repl_ast] is not a valid tool, try one of [python_repl_ast].\n",
      "Thought:\u001b[32;1m\u001b[1;3m Let's try this again using the actual Python REPL:\n",
      "\n",
      "Thought: To answer this question, I need to count the number of females in the 'Sex' column of the dataframe.\n",
      "\n",
      "Action: python_repl_ast \n",
      "\n",
      "Action Input: df['Sex'].value_counts()\n",
      "\u001b[0m\n",
      "Observation: \u001b[36;1m\u001b[1;3mSex\n",
      "male      577\n",
      "female    314\n",
      "Name: count, dtype: int64\u001b[0m\n",
      "Thought:\u001b[32;1m\u001b[1;3m The value_counts() method shows that there are 314 females in the 'Sex' column.\n",
      "\n",
      "Final Answer: 314\u001b[0m\n",
      "\n",
      "\u001b[1m> Finished chain.\u001b[0m\n"
     ]
    },
    {
     "data": {
      "text/plain": [
       "'314'"
      ]
     },
     "execution_count": 26,
     "metadata": {},
     "output_type": "execute_result"
    }
   ],
   "source": [
    "agent.run(\"how many are \")"
   ]
  }
 ],
 "metadata": {
  "kernelspec": {
   "display_name": "base",
   "language": "python",
   "name": "python3"
  },
  "language_info": {
   "codemirror_mode": {
    "name": "ipython",
    "version": 3
   },
   "file_extension": ".py",
   "mimetype": "text/x-python",
   "name": "python",
   "nbconvert_exporter": "python",
   "pygments_lexer": "ipython3",
   "version": "3.11.5"
  },
  "orig_nbformat": 4
 },
 "nbformat": 4,
 "nbformat_minor": 2
}
