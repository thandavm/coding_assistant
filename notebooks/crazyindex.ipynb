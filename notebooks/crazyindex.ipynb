{
 "cells": [
  {
   "cell_type": "code",
   "execution_count": 1,
   "metadata": {},
   "outputs": [],
   "source": [
    "import boto3\n",
    "from langchain.embeddings import BedrockEmbeddings\n",
    "import ipywidgets as ipw\n",
    "from IPython.display import display, clear_output\n",
    "boto3_bedrock = boto3.client(\"bedrock-runtime\")\n",
    "\n",
    "br_embeddings = BedrockEmbeddings(model_id=\"amazon.titan-embed-g1-text-02\", client=boto3_bedrock)"
   ]
  },
  {
   "cell_type": "code",
   "execution_count": 3,
   "metadata": {},
   "outputs": [
    {
     "name": "stdout",
     "output_type": "stream",
     "text": [
      "Number of documents=891\n",
      "Number of documents after split and chunking=891\n",
      "vectorstore_faiss_aws: number of elements in the index=891::\n"
     ]
    }
   ],
   "source": [
    "from langchain.document_loaders import CSVLoader\n",
    "from langchain.text_splitter import CharacterTextSplitter\n",
    "from langchain.vectorstores import FAISS\n",
    "\n",
    "# s3_path = \"s3://jumpstart-cache-prod-us-east-2/training-datasets/Amazon_SageMaker_FAQs/Amazon_SageMaker_FAQs.csv\"\n",
    "# !aws s3 cp $s3_path ./rag_data/Amazon_SageMaker_FAQs.csv\n",
    "\n",
    "loader = CSVLoader(\"../data/sample.sql\") # --- > 219 docs with 400 chars, each row consists in a question column and an answer column\n",
    "documents_aws = loader.load() #\n",
    "print(f\"Number of documents={len(documents_aws)}\")\n",
    "\n",
    "docs = CharacterTextSplitter(chunk_size=500, chunk_overlap=0, separator=\",\").split_documents(documents_aws)\n",
    "\n",
    "print(f\"Number of documents after split and chunking={len(docs)}\")\n",
    "\n",
    "vectorstore_faiss_aws = FAISS.from_documents(\n",
    "    documents=docs,\n",
    "    embedding = br_embeddings\n",
    ")\n",
    "\n",
    "print(f\"vectorstore_faiss_aws: number of elements in the index={vectorstore_faiss_aws.index.ntotal}::\")"
   ]
  },
  {
   "cell_type": "code",
   "execution_count": 9,
   "metadata": {},
   "outputs": [
    {
     "name": "stdout",
     "output_type": "stream",
     "text": [
      "[-1.0625, -0.7421875, -0.25585938, -0.048095703, -0.37890625, 1.3515625, -0.0006904602, -0.0007019043, -0.064453125, 0.02722168]\n",
      "Survived: 1\n",
      "PassengerId: 371\n",
      "Pclass: 1\n",
      "Name: Harder, Mr. George Achilles\n",
      "Sex: male\n",
      "Age: 25\n",
      "SibSp: 1\n",
      "Parch: 0\n",
      "Fare: 55.4417\n",
      "Embarked: C\n",
      "----\n",
      "Survived: 1\n",
      "PassengerId: 797\n",
      "Pclass: 1\n",
      "Name: Leader, Dr. Alice (Farnham)\n",
      "Sex: female\n",
      "Age: 49\n",
      "SibSp: 0\n",
      "Parch: 0\n",
      "Fare: 25.9292\n",
      "Embarked: S\n",
      "----\n",
      "Survived: 1\n",
      "PassengerId: 633\n",
      "Pclass: 1\n",
      "Name: Stahelin-Maeglin, Dr. Max\n",
      "Sex: male\n",
      "Age: 32\n",
      "SibSp: 0\n",
      "Parch: 0\n",
      "Fare: 30.5\n",
      "Embarked: C\n",
      "----\n",
      "Survived: 1\n",
      "PassengerId: 126\n",
      "Pclass: 3\n",
      "Name: Nicola-Yarred, Master. Elias\n",
      "Sex: male\n",
      "Age: 12\n",
      "SibSp: 1\n",
      "Parch: 0\n",
      "Fare: 11.2417\n",
      "Embarked: C\n",
      "----\n"
     ]
    }
   ],
   "source": [
    "question = \"How many survived\"\n",
    "v = br_embeddings.embed_query(question)\n",
    "print(v[0:10])\n",
    "results = vectorstore_faiss_aws.similarity_search_by_vector(v, k=4)\n",
    "for r in results:\n",
    "    print(r.page_content)\n",
    "    print('----')"
   ]
  },
  {
   "cell_type": "code",
   "execution_count": 10,
   "metadata": {},
   "outputs": [
    {
     "data": {
      "text/plain": [
       "[Document(page_content='Survived: 1\\nPassengerId: 371\\nPclass: 1\\nName: Harder, Mr. George Achilles\\nSex: male\\nAge: 25\\nSibSp: 1\\nParch: 0\\nFare: 55.4417\\nEmbarked: C', metadata={'source': '../data/titanic.csv', 'row': 370}),\n",
       " Document(page_content='Survived: 1\\nPassengerId: 797\\nPclass: 1\\nName: Leader, Dr. Alice (Farnham)\\nSex: female\\nAge: 49\\nSibSp: 0\\nParch: 0\\nFare: 25.9292\\nEmbarked: S', metadata={'source': '../data/titanic.csv', 'row': 796}),\n",
       " Document(page_content='Survived: 1\\nPassengerId: 633\\nPclass: 1\\nName: Stahelin-Maeglin, Dr. Max\\nSex: male\\nAge: 32\\nSibSp: 0\\nParch: 0\\nFare: 30.5\\nEmbarked: C', metadata={'source': '../data/titanic.csv', 'row': 632}),\n",
       " Document(page_content='Survived: 1\\nPassengerId: 126\\nPclass: 3\\nName: Nicola-Yarred, Master. Elias\\nSex: male\\nAge: 12\\nSibSp: 1\\nParch: 0\\nFare: 11.2417\\nEmbarked: C', metadata={'source': '../data/titanic.csv', 'row': 125})]"
      ]
     },
     "execution_count": 10,
     "metadata": {},
     "output_type": "execute_result"
    }
   ],
   "source": [
    "results"
   ]
  },
  {
   "cell_type": "code",
   "execution_count": 12,
   "metadata": {},
   "outputs": [
    {
     "name": "stdout",
     "output_type": "stream",
     "text": [
      " I'm afraid I don't have enough context to answer the question. Could you please provide more details about the results and/or question?\n"
     ]
    }
   ],
   "source": [
    "import json\n",
    "\n",
    "input = \"\"\"\n",
    "\n",
    "Human:  Answer the question based on the context provided\n",
    "Context = {results}\n",
    "Question: {question}\n",
    "\n",
    "Assistant:\n",
    "\"\"\"\n",
    "\n",
    "body = json.dumps({\n",
    "                    \"prompt\": input,\n",
    "                    \"max_tokens_to_sample\":4096,\n",
    "                    \"temperature\":0.5,\n",
    "                    \"top_k\":250,\n",
    "                    \"top_p\":0.5,\n",
    "                    \"stop_sequences\": [\"\\n\\nHuman:\"]\n",
    "                  }) \n",
    "\n",
    "\n",
    "modelId = 'anthropic.claude-instant-v1'\n",
    "#modelId = 'anthropic.claude-v2' # change this to use a different version from the model provider\n",
    "accept = 'application/json'\n",
    "contentType = 'application/json'\n",
    "\n",
    "response = boto3_bedrock.invoke_model(body=body, modelId=modelId, accept=accept, contentType=contentType)\n",
    "response_body = json.loads(response.get('body').read())\n",
    "\n",
    "print(response_body.get('completion'))"
   ]
  }
 ],
 "metadata": {
  "kernelspec": {
   "display_name": "base",
   "language": "python",
   "name": "python3"
  },
  "language_info": {
   "codemirror_mode": {
    "name": "ipython",
    "version": 3
   },
   "file_extension": ".py",
   "mimetype": "text/x-python",
   "name": "python",
   "nbconvert_exporter": "python",
   "pygments_lexer": "ipython3",
   "version": "3.11.5"
  }
 },
 "nbformat": 4,
 "nbformat_minor": 2
}
